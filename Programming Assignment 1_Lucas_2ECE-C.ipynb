{
 "cells": [
  {
   "cell_type": "code",
   "execution_count": 23,
   "id": "0ad0f47d-217c-428e-944d-b1d73e02c65f",
   "metadata": {},
   "outputs": [
    {
     "name": "stdout",
     "output_type": "stream",
     "text": [
      "alphabet_soup(\"hello\") -> \"ehllo\"\n"
     ]
    }
   ],
   "source": [
    "# Define the alphabet_soup function and then call it and print the results immediately\n",
    "def alphabet_soup(input_string):\n",
    "    \"\"\"\n",
    "    Takes a string and returns a new string with its letters in alphabetical order.\n",
    "    \"\"\"\n",
    "    return \"\".join(sorted(list(input_string)))\n",
    "\n",
    "print(f'alphabet_soup(\"hello\") -> \"{alphabet_soup(\"hello\")}\"')"
   ]
  },
  {
   "cell_type": "code",
   "execution_count": 24,
   "id": "745166ce-0e19-4c10-812d-bc0d1cc429fb",
   "metadata": {},
   "outputs": [
    {
     "name": "stdout",
     "output_type": "stream",
     "text": [
      "alphabet_soup(\"hacker\") -> \"acehkr\"\n"
     ]
    }
   ],
   "source": [
    "print(f'alphabet_soup(\"hacker\") -> \"{alphabet_soup(\"hacker\")}\"')"
   ]
  },
  {
   "cell_type": "code",
   "execution_count": 2,
   "id": "1013954c-08ff-48e4-a225-09edaece34bd",
   "metadata": {},
   "outputs": [],
   "source": [
    "def emotify(sentence):\n",
    "  \"\"\"\n",
    "  Changes specific words in a sentence to emoticons.\n",
    "  \n",
    "  Args:\n",
    "    sentence: The input string (sentence).\n",
    "    \n",
    "  Returns:\n",
    "    The modified sentence with words replaced by emoticons.\n",
    "  \"\"\"\n",
    "  # Define the mapping of words to emoticons.\n",
    "  # It's good practice to use a dictionary for this kind of mapping\n",
    "  # as it provides a fast way to look up the replacement for each word.\n",
    "  emoticon_map = {\n",
    "      \"smile\": \":)\",\n",
    "      \"grin\": \":D\",\n",
    "      \"sad\": \":(\",\n",
    "      \"mad\": \">:(\"\n",
    "  }\n",
    "  \n",
    "  # Split the input sentence into a list of words.\n",
    "  # We convert the sentence to lowercase first to ensure the\n",
    "  # word matching is case-insensitive (e.g., \"Smile\" matches \"smile\").\n",
    "  words = sentence.lower().split()\n",
    "  \n",
    "  # Create a new list to store the words after potential replacement.\n",
    "  emotified_words = []\n",
    "  \n",
    "  # Iterate through each word in the original list.\n",
    "  for word in words:\n",
    "    # Use the .get() method on the dictionary.\n",
    "    # It attempts to find the word as a key in the dictionary.\n",
    "    # If the word is found, it returns the corresponding emoticon value.\n",
    "    # If the word is NOT found, it returns the word itself (the default value),\n",
    "    # so the original word is kept in the sentence.\n",
    "    emotified_words.append(emoticon_map.get(word, word))\n",
    "    \n",
    "  # Join the words back together into a single string with spaces between them.\n",
    "  return \" \".join(emotified_words)"
   ]
  },
  {
   "cell_type": "code",
   "execution_count": 4,
   "id": "76a4f7fc-ecec-4e55-a9cd-05755f43b547",
   "metadata": {},
   "outputs": [
    {
     "data": {
      "text/plain": [
       "'make me :)'"
      ]
     },
     "execution_count": 4,
     "metadata": {},
     "output_type": "execute_result"
    }
   ],
   "source": [
    "emotify(\"make me smile\")\n"
   ]
  },
  {
   "cell_type": "code",
   "execution_count": 3,
   "id": "05fb249f-590b-4030-8605-07937f07a870",
   "metadata": {},
   "outputs": [
    {
     "data": {
      "text/plain": [
       "'make me :('"
      ]
     },
     "execution_count": 3,
     "metadata": {},
     "output_type": "execute_result"
    }
   ],
   "source": [
    "emotify(\"make me sad\")"
   ]
  },
  {
   "cell_type": "code",
   "execution_count": 6,
   "id": "75798af7-4b58-49e7-90dc-e380672673f0",
   "metadata": {},
   "outputs": [
    {
     "data": {
      "text/plain": [
       "'i am >:('"
      ]
     },
     "execution_count": 6,
     "metadata": {},
     "output_type": "execute_result"
    }
   ],
   "source": [
    "emotify(\"I am mad\")"
   ]
  },
  {
   "cell_type": "code",
   "execution_count": 7,
   "id": "600b96dd-0138-4801-b394-70054a502fd6",
   "metadata": {},
   "outputs": [
    {
     "data": {
      "text/plain": [
       "'make me :D'"
      ]
     },
     "execution_count": 7,
     "metadata": {},
     "output_type": "execute_result"
    }
   ],
   "source": [
    "emotify(\"make me grin\")"
   ]
  },
  {
   "cell_type": "code",
   "execution_count": 21,
   "id": "35da0caa-f6c5-4f82-b188-828d5f37b03f",
   "metadata": {},
   "outputs": [],
   "source": [
    "lst = [1, 2, 3, 4, 5, 6]\n",
    "\n",
    "first, *middle, last = lst"
   ]
  },
  {
   "cell_type": "code",
   "execution_count": 22,
   "id": "be3c03cb-73d5-4ef1-b816-b521e25169c0",
   "metadata": {},
   "outputs": [
    {
     "name": "stdout",
     "output_type": "stream",
     "text": [
      "first: 1  middle: [2, 3, 4, 5]  last: 6\n"
     ]
    }
   ],
   "source": [
    "print(\"first:\", first, \" middle:\", middle, \" last:\", last)"
   ]
  }
 ],
 "metadata": {
  "kernelspec": {
   "display_name": "Python 3 (ipykernel)",
   "language": "python",
   "name": "python3"
  },
  "language_info": {
   "codemirror_mode": {
    "name": "ipython",
    "version": 3
   },
   "file_extension": ".py",
   "mimetype": "text/x-python",
   "name": "python",
   "nbconvert_exporter": "python",
   "pygments_lexer": "ipython3",
   "version": "3.13.5"
  }
 },
 "nbformat": 4,
 "nbformat_minor": 5
}
